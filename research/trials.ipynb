{
 "cells": [
  {
   "cell_type": "code",
   "execution_count": null,
   "metadata": {},
   "outputs": [],
   "source": [
    "actual_nominal_features = ['Neighborhood']\n",
    "actual_ordinal_features = ['BsmtFinType1', 'HeatingQC', 'KitchenQual', 'FireplaceQu']\n",
    "actual_discrete_features = ['MSSubClass', 'OverallQual', 'OverallCond', 'BsmtFullBath', 'TotRmsAbvGrd', 'Fireplaces', 'GarageCars']\n",
    "actual_continuous_features = ['LotArea', 'BsmtFinSF1', 'BsmtUnfSF', 'TotalBsmtSF', '1stFlrSF', 'GrLivArea', 'WoodDeckSF', 'OpenPorchSF']\n",
    "actual_year_features = ['YearBuilt', 'YearRemodAdd', 'GarageYrBlt']"
   ]
  },
  {
   "cell_type": "code",
   "execution_count": null,
   "metadata": {},
   "outputs": [],
   "source": [
    "MSSubClass = [ 20  30  40  45  50  60  70  75  80  85  90 120 160 180 190] - drop down - \n",
    "OverallQual =  [ 1  2  3  4  5  6  7  8  9 10] - drop down - Overall material and finish quality\n",
    "OverallCond  = [1 2 3 4 5 6 7 8 9] - dropdown - Overall condition rating\n",
    "\n",
    "BsmtFullBath = [0 1 2 3] - Basement full bathrooms\n",
    "Fireplaces = [0 1 2 3] - Number of fireplaces\n",
    "GarageCars = [0 1 2 3 4] -Size of garage in car capacity\n",
    "TotRmsAbvGrd = [ 2  3  4  5  6  7  8  9 10 11 12 14] - Total rooms above grade (does not include bathrooms)\n",
    "\n",
    "BsmtFinType1 = ['GLQ' 'ALQ' 'Unf' 'Rec' 'BLQ' 'others' 'LwQ'] - na - dropdown - Quality of basement finished area\n",
    "HeatingQC = ['Ex' 'Gd' 'TA' 'Fa' 'Po'] - dropdown - Heating quality and condition\n",
    "FireplaceQu =['others' 'TA' 'Gd' 'Fa' 'Ex' 'Po'] - Na - dropdown - Fireplace quality\n",
    "KitchenQual = ['Gd' 'TA' 'Ex' 'Fa'] - dropdown - Kitchen quality\n",
    "Neighborhood = ['CollgCr' 'Veenker' 'Crawfor' 'NoRidge' 'Mitchel' 'Somerst' 'NWAmes'\n",
    " 'OldTown' 'BrkSide' 'Sawyer' 'NridgHt' 'NAmes' 'SawyerW' 'IDOTRR'\n",
    " 'MeadowV' 'Edwards' 'Timber' 'Gilbert' 'StoneBr' 'ClearCr' 'NPkVill'\n",
    " 'Blmngtn' 'BrDale' 'SWISU' 'Blueste'] - dropdown - Physical locations within Ames city limits\n"
   ]
  }
 ],
 "metadata": {
  "kernelspec": {
   "display_name": "Python 3",
   "language": "python",
   "name": "python3"
  },
  "language_info": {
   "name": "python",
   "version": "3.12.2"
  }
 },
 "nbformat": 4,
 "nbformat_minor": 2
}
