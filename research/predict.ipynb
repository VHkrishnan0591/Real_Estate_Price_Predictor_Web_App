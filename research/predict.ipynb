{
 "cells": [
  {
   "cell_type": "code",
   "execution_count": 9,
   "metadata": {},
   "outputs": [],
   "source": [
    "import os\n",
    "import pandas as pd\n",
    "import numpy as np"
   ]
  },
  {
   "cell_type": "code",
   "execution_count": 2,
   "metadata": {},
   "outputs": [
    {
     "data": {
      "text/plain": [
       "'c:\\\\Users\\\\harik\\\\OneDrive\\\\Desktop\\\\HARIKRISHNAN_DETAILS\\\\Real_Estate_Predictor_Web_App\\\\Real_Estate_Price_Predictor_Web_App\\\\research'"
      ]
     },
     "execution_count": 2,
     "metadata": {},
     "output_type": "execute_result"
    }
   ],
   "source": [
    "%pwd"
   ]
  },
  {
   "cell_type": "code",
   "execution_count": 3,
   "metadata": {},
   "outputs": [],
   "source": [
    "os.chdir(\"../\")"
   ]
  },
  {
   "cell_type": "code",
   "execution_count": 4,
   "metadata": {},
   "outputs": [
    {
     "data": {
      "text/plain": [
       "'c:\\\\Users\\\\harik\\\\OneDrive\\\\Desktop\\\\HARIKRISHNAN_DETAILS\\\\Real_Estate_Predictor_Web_App\\\\Real_Estate_Price_Predictor_Web_App'"
      ]
     },
     "execution_count": 4,
     "metadata": {},
     "output_type": "execute_result"
    }
   ],
   "source": [
    "%pwd"
   ]
  },
  {
   "cell_type": "code",
   "execution_count": null,
   "metadata": {},
   "outputs": [],
   "source": [
    "from dataclasses import dataclass\n",
    "from pathlib import Path\n",
    "\n",
    "\n",
    "@dataclass(frozen=True)\n",
    "class PredictConfig:\n",
    "    date_time_handler_model_file: Path\n",
    "    log_transformer_model_file: Path\n",
    "    ordinal_encoder_model_file: Path\n",
    "    nominal_encoder_model_file: Path\n",
    "    rare_categorical_handler_file: Path\n",
    "    remove_outlier_model_file: Path\n",
    "    feature_scaling_model: Path\n",
    "    best_model_directory: Path\n"
   ]
  },
  {
   "cell_type": "code",
   "execution_count": null,
   "metadata": {},
   "outputs": [],
   "source": [
    "from real_estate_price_predictor.constants import *\n",
    "from real_estate_price_predictor.utils.common import read_yaml, create_directories, save_object, load_object"
   ]
  },
  {
   "cell_type": "code",
   "execution_count": null,
   "metadata": {},
   "outputs": [],
   "source": [
    "class ConfigurationManager:\n",
    "    def __init__(\n",
    "        self,\n",
    "        config_filepath = CONFIG_FILE_PATH,\n",
    "        params_filepath = PARAMS_FILE_PATH):\n",
    "\n",
    "        self.config = read_yaml(config_filepath)\n",
    "        self.params = read_yaml(params_filepath)\n",
    "\n",
    "        create_directories([self.config.artifacts_root])\n",
    "    \n",
    "    def get_predict_config(self) -> PredictConfig:\n",
    "        config = self.config.predict\n",
    "\n",
    "        predict_config = PredictConfig(\n",
    "            date_time_handler_model_file = config.date_time_handler_model_file ,\n",
    "            log_transformer_model_file = config.log_transformer_model_file,\n",
    "            ordinal_encoder_model_file = config.ordinal_encoder_model_file,\n",
    "            nominal_encoder_model_file = config.nominal_encoder_model_file,\n",
    "            rare_categorical_handler_file = config.rare_categorical_handler_file,\n",
    "            remove_outlier_model_file = config.remove_outlier_model_file,\n",
    "            feature_scaling_model = config.feature_scaling_model,\n",
    "            best_model_directory = config.best_model_directory\n",
    "        )\n",
    "\n",
    "        return predict_config\n"
   ]
  },
  {
   "cell_type": "code",
   "execution_count": null,
   "metadata": {},
   "outputs": [],
   "source": [
    "class Predict:\n",
    "    \n",
    "    def __init__(self, config = PredictConfig):\n",
    "        self.config = config\n",
    "    \n",
    "    def predict(self,dataframe:pd.DataFrame):\n",
    "        date_time_transformer = load_object(self.config.date_time_handler_model_file)\n",
    "        log_transformer = load_object(self.config.log_transformer_model_file)\n",
    "        rare_categorical_model = load_object(self.config.rare_categorical_handler_file)\n",
    "        ordinal_encoder = load_object(self.config.ordinal_encoder_model_file)\n",
    "        nominal_encoder = load_object(self.config.nominal_encoder_model_file)\n",
    "        remove_outlier_model = load_object(self.config.remove_outlier_model_file)\n",
    "        feature_scaler = load_object(self.config.feature_scaling_model)\n",
    "        for i in os.listdir(self.config.best_model_directory):\n",
    "            if i.__contains__('pkl'):\n",
    "                model_name = i\n",
    "        model = load_object(os.path.join(self.config.best_model_directory,model_name))\n",
    "        dataframe = date_time_transformer.transform(dataframe)\n",
    "        dataframe = log_transformer.transform(dataframe)\n",
    "        dataframe = rare_categorical_model.transform(dataframe)\n",
    "        dataframe = ordinal_encoder.transform(dataframe)\n",
    "        dataframe = nominal_encoder.transform(dataframe)\n",
    "        dataframe = remove_outlier_model.transform(dataframe)\n",
    "        dataframe.drop(['YrSold'],axis=1,inplace= True)\n",
    "        dataframe = pd.DataFrame(feature_scaler.transform(dataframe), columns=dataframe.columns)\n",
    "        y_pred = model.predict(dataframe)\n",
    "        return np.exp(y_pred[0])\n"
   ]
  },
  {
   "cell_type": "code",
   "execution_count": 8,
   "metadata": {},
   "outputs": [
    {
     "name": "stdout",
     "output_type": "stream",
     "text": [
      "artifacts/model_trainer\\HyperParameterRandomnForrestRegression.pkl\n"
     ]
    }
   ],
   "source": [
    "try:\n",
    "    config = ConfigurationManager()\n",
    "    predict_config = config.get_predict_config()\n",
    "    predict = Predict(config=predict_config)\n",
    "    result = predict.predict(X_1)\n",
    "    print(result)\n",
    "except Exception as e:\n",
    "    raise e"
   ]
  },
  {
   "cell_type": "code",
   "execution_count": null,
   "metadata": {},
   "outputs": [],
   "source": []
  }
 ],
 "metadata": {
  "kernelspec": {
   "display_name": "Python 3",
   "language": "python",
   "name": "python3"
  },
  "language_info": {
   "codemirror_mode": {
    "name": "ipython",
    "version": 3
   },
   "file_extension": ".py",
   "mimetype": "text/x-python",
   "name": "python",
   "nbconvert_exporter": "python",
   "pygments_lexer": "ipython3",
   "version": "3.12.2"
  }
 },
 "nbformat": 4,
 "nbformat_minor": 2
}
